{
 "cells": [
  {
   "cell_type": "markdown",
   "metadata": {},
   "source": [
    "# Capstone Webscrapping using BeautifulSoup\n",
    "\n",
    "This notebook contains guidances & tasks on the data processing for the application\n",
    "\n",
    "## Background\n",
    "\n",
    "Level : Hard\n",
    "\n",
    "Website Data Pekerjaan di Indonesia pada halaman https://www.kalibrr.id/id-ID/job-board/te/data/1\n",
    "\n",
    "Mengambil data `title pekerjaan`, `lokasi pekerjaan`, `tanggal pekerjaan di post dan dealine submit permohonan`, dan `perusahaan` dari 15 halaman pertama.\n",
    "\n",
    "Webscraping ini dilakukan untuk mendapatkan informasi terkait pekerjaan-pekerjaan yang ada dan informasi detail lainnya. Kemudian data yang didapat akan dilakukan *process* *EDA* dan *Data Wrangling*. Hasil akhir dari data ini akan dijadikan visualisasi dan akan diimplementasikan dengan menggunakan *library* `Flask`.\n",
    "\n",
    "## Requesting the Data and Creating a BeautifulSoup\n",
    "\n",
    "Let's begin with requesting the web from the site with `get` method."
   ]
  },
  {
   "cell_type": "code",
   "execution_count": 82,
   "metadata": {
    "ExecuteTime": {
     "end_time": "2020-01-13T05:12:23.275508Z",
     "start_time": "2020-01-13T05:12:20.009898Z"
    }
   },
   "outputs": [],
   "source": [
    "import requests\n",
    "\n",
    "url_get = requests.get('https://www.kalibrr.id/id-ID/job-board/te/data/1')"
   ]
  },
  {
   "cell_type": "markdown",
   "metadata": {},
   "source": [
    "To visualize what exactly you get from the `request.get`, we can use .content so ee what we exactly get, in here i slice it so it won't make our screen full of the html we get from the page. You can delete the slicing if you want to see what we fully get."
   ]
  },
  {
   "cell_type": "code",
   "execution_count": 83,
   "metadata": {
    "ExecuteTime": {
     "end_time": "2020-01-13T05:12:23.290648Z",
     "start_time": "2020-01-13T05:12:23.277650Z"
    }
   },
   "outputs": [
    {
     "data": {
      "text/plain": [
       "b'!DOCTYPE html><html lang=\"id-ID\"><head><meta name=\"viewport\" content=\"width=device-width\"/><meta charSet=\"utf-8\"/><script type=\"application/ld+json\">{\\n    \"@context\": \"https://schema.org\",\\n    \"@type\": \"WebSite\",\\n    \"url\": \"https://www.kalibrr.com\",\\n    \"potentialAction\": [\\n      {\\n        \"@type\": \"SearchAction\",\\n        \"target\": \"https://www.kalibrr.com/job-board/te/={search_term_string}\",\\n        \"query-input\": \"required name=search_term_string\"\\n      }\\n     ]\\n  }</script><meta property=\"o'"
      ]
     },
     "execution_count": 83,
     "metadata": {},
     "output_type": "execute_result"
    }
   ],
   "source": [
    "url_get.content[1:500]"
   ]
  },
  {
   "cell_type": "markdown",
   "metadata": {},
   "source": [
    "As we can see we get a very unstructured and complex html, which actually contains the codes needed to show the webpages on your web browser. But we as human still confused what and where we can use that piece of code, so here where we use the beautifulsoup. Beautiful soup class will result a beautifulsoup object. Beautiful Soup transforms a complex HTML document into a complex tree of Python objects. \n",
    "\n",
    "Let's make Beautiful soup object and feel free to explore the object here."
   ]
  },
  {
   "cell_type": "code",
   "execution_count": 84,
   "metadata": {
    "ExecuteTime": {
     "end_time": "2020-01-13T05:12:23.808122Z",
     "start_time": "2020-01-13T05:12:23.292610Z"
    }
   },
   "outputs": [],
   "source": [
    "from bs4 import BeautifulSoup \n",
    "\n",
    "soup = BeautifulSoup(url_get.content,\"html.parser\")"
   ]
  },
  {
   "cell_type": "markdown",
   "metadata": {},
   "source": [
    "## Finding the right key to scrap the data & Extracting the right information"
   ]
  },
  {
   "cell_type": "markdown",
   "metadata": {},
   "source": [
    "Find the key and put the key into the `.find()` Put all the exploring the right key at this cell. (please change this markdown with your explanation)"
   ]
  },
  {
   "cell_type": "code",
   "execution_count": 85,
   "metadata": {
    "ExecuteTime": {
     "end_time": "2020-01-13T05:12:23.878904Z",
     "start_time": "2020-01-13T05:12:23.854974Z"
    }
   },
   "outputs": [
    {
     "name": "stdout",
     "output_type": "stream",
     "text": [
      "!DOCTYPE html>\n",
      "<html lang=\"id-ID\">\n",
      " <head>\n",
      "  <meta content=\"width=device-width\" name=\"viewport\"/>\n",
      "  <meta charset=\"utf-8\"/>\n",
      "  <script type=\"application/ld+json\">\n",
      "   {\n",
      "    \"@context\": \"https://schema.org\",\n",
      "    \"@type\": \"WebSite\",\n",
      "    \"url\": \"https://www.kalibrr.com\",\n",
      "    \"potentialAction\": [\n",
      "      {\n",
      "        \"@type\": \"SearchAction\",\n",
      "        \"target\": \"https://www.kalibrr.com/job-board/te/={search_term_string}\",\n",
      "        \"query-input\": \"required name=search_term_string\"\n",
      "      }\n",
      "     ]\n",
      "  }\n",
      "  </scrip\n"
     ]
    }
   ],
   "source": [
    "print(soup.prettify()[1:500])"
   ]
  },
  {
   "cell_type": "markdown",
   "metadata": {},
   "source": [
    "Selanjutnya, melakukan *scraping* untuk `15` halaman pertama."
   ]
  },
  {
   "cell_type": "code",
   "execution_count": 86,
   "metadata": {
    "ExecuteTime": {
     "end_time": "2020-01-13T05:12:24.008256Z",
     "start_time": "2020-01-13T05:12:23.980358Z"
    }
   },
   "outputs": [
    {
     "name": "stdout",
     "output_type": "stream",
     "text": [
      "Proses Halaman 1\n",
      "Proses Halaman 2\n",
      "Proses Halaman 3\n",
      "Proses Halaman 4\n",
      "Proses Halaman 5\n",
      "Proses Halaman 6\n",
      "Proses Halaman 7\n",
      "Proses Halaman 8\n",
      "Proses Halaman 9\n",
      "Proses Halaman 10\n",
      "Proses Halaman 11\n",
      "Proses Halaman 12\n",
      "Proses Halaman 13\n",
      "Proses Halaman 14\n",
      "Proses Halaman 15\n",
      "DONE\n"
     ]
    }
   ],
   "source": [
    "halaman = 15\n",
    "\n",
    "title = []\n",
    "lokasi = []\n",
    "post_dl = []\n",
    "perusahaan = []\n",
    "\n",
    "for i in range(1, halaman + 1):\n",
    "    print(f'Proses Halaman {i}')\n",
    "    url_get = requests.get(f\"https://www.kalibrr.id/id-ID/job-board/te/data/{i}\")\n",
    "    soup = BeautifulSoup(url_get.content,\"html.parser\")\n",
    "    title_0 = soup.find_all('h2', attrs = {'class' : 'k-text-xl k-font-medium'})\n",
    "    title_1 = BeautifulSoup(str(title_0), 'html.parser')\n",
    "    for item in title_1.find_all('a', attrs={'class':'k-text-primary-color'}):\n",
    "        title.append(item.text)\n",
    "    perusahaan_0 = soup.find_all('span', attrs = {'class' : 'k-inline-flex k-items-center k-mb-1'})\n",
    "    perusahaan_1 = BeautifulSoup(str(perusahaan_0), 'html.parser')\n",
    "    for item in perusahaan_1.find_all('a', attrs={'class':'k-text-subdued'}):\n",
    "        perusahaan.append(item.text)\n",
    "    for item in soup.find_all('a', attrs={'class':'k-text-subdued k-block'}):\n",
    "        lokasi.append(item.text)\n",
    "    for item in soup.find_all('span', attrs={'class':'k-block k-mb-1'}):\n",
    "        post_dl.append(item.text)\n",
    "print('DONE')"
   ]
  },
  {
   "cell_type": "markdown",
   "metadata": {},
   "source": [
    "Memastikan apakah data yang didapat sudah sesuai, yaitu 15 data pekerjaan setiap halaman dan halaman yang diambil berjumlah 15. Maka data seharusnya berjumlah `15 x 15 = 225` data setiap kolom nya."
   ]
  },
  {
   "cell_type": "code",
   "execution_count": 87,
   "metadata": {},
   "outputs": [
    {
     "data": {
      "text/plain": [
       "(225, 225, 225, 225)"
      ]
     },
     "execution_count": 87,
     "metadata": {},
     "output_type": "execute_result"
    }
   ],
   "source": [
    "len(title), len(lokasi), len(post_dl), len(perusahaan)"
   ]
  },
  {
   "cell_type": "markdown",
   "metadata": {},
   "source": [
    "Terlihat bahwa jumlah data sudah sesuai dengan yang seharusnya."
   ]
  },
  {
   "cell_type": "markdown",
   "metadata": {},
   "source": [
    "## Creating data frame & Data wrangling"
   ]
  },
  {
   "cell_type": "markdown",
   "metadata": {},
   "source": [
    "Put the array into dataframe"
   ]
  },
  {
   "cell_type": "markdown",
   "metadata": {},
   "source": [
    "Data diambil pada tanggal **12 April 2023 pukul 18.40 WIB**\n",
    "Insight yang diberikan pada notebook ini akan berdasarkan data yang diambil pada waktu tersebut. Jika melakukan *webscraping* kembali di waktu yang berbeda, kemungkinan data akan berbeda dengan yang ada disini."
   ]
  },
  {
   "cell_type": "code",
   "execution_count": 88,
   "metadata": {
    "ExecuteTime": {
     "end_time": "2020-01-13T05:12:41.517372Z",
     "start_time": "2020-01-13T05:12:29.130015Z"
    }
   },
   "outputs": [
    {
     "data": {
      "text/html": [
       "<div>\n",
       "<style scoped>\n",
       "    .dataframe tbody tr th:only-of-type {\n",
       "        vertical-align: middle;\n",
       "    }\n",
       "\n",
       "    .dataframe tbody tr th {\n",
       "        vertical-align: top;\n",
       "    }\n",
       "\n",
       "    .dataframe thead th {\n",
       "        text-align: right;\n",
       "    }\n",
       "</style>\n",
       "<table border=\"1\" class=\"dataframe\">\n",
       "  <thead>\n",
       "    <tr style=\"text-align: right;\">\n",
       "      <th></th>\n",
       "      <th>Title Pekerjaan</th>\n",
       "      <th>Lokasi</th>\n",
       "      <th>Post dan Deadline</th>\n",
       "      <th>Perusahaan</th>\n",
       "    </tr>\n",
       "  </thead>\n",
       "  <tbody>\n",
       "    <tr>\n",
       "      <th>0</th>\n",
       "      <td>DevOps and Data Engineer</td>\n",
       "      <td>Tangerang Selatan, Indonesia</td>\n",
       "      <td>Posted 8 days ago • Apply before 13 May</td>\n",
       "      <td>Mobius Digital</td>\n",
       "    </tr>\n",
       "    <tr>\n",
       "      <th>1</th>\n",
       "      <td>Data Quality Analyst</td>\n",
       "      <td>Central Jakarta City, Indonesia</td>\n",
       "      <td>Posted 9 days ago • Apply before 1 May</td>\n",
       "      <td>Astra Financial</td>\n",
       "    </tr>\n",
       "    <tr>\n",
       "      <th>2</th>\n",
       "      <td>Project Manager</td>\n",
       "      <td>Jakarta, Indonesia</td>\n",
       "      <td>Posted 9 days ago • Apply before 29 Jun</td>\n",
       "      <td>PGI Data</td>\n",
       "    </tr>\n",
       "    <tr>\n",
       "      <th>3</th>\n",
       "      <td>Network  Security Engineer</td>\n",
       "      <td>Jakarta, Indonesia</td>\n",
       "      <td>Posted 7 days ago • Apply before 19 Apr</td>\n",
       "      <td>PGI Data</td>\n",
       "    </tr>\n",
       "    <tr>\n",
       "      <th>4</th>\n",
       "      <td>iOS Developer</td>\n",
       "      <td>Jakarta Selatan, Indonesia</td>\n",
       "      <td>Posted 2 days ago • Apply before 9 May</td>\n",
       "      <td>PhinCon</td>\n",
       "    </tr>\n",
       "  </tbody>\n",
       "</table>\n",
       "</div>"
      ],
      "text/plain": [
       "              Title Pekerjaan                           Lokasi  \\\n",
       "0    DevOps and Data Engineer     Tangerang Selatan, Indonesia   \n",
       "1        Data Quality Analyst  Central Jakarta City, Indonesia   \n",
       "2             Project Manager               Jakarta, Indonesia   \n",
       "3  Network  Security Engineer               Jakarta, Indonesia   \n",
       "4               iOS Developer       Jakarta Selatan, Indonesia   \n",
       "\n",
       "                         Post dan Deadline       Perusahaan  \n",
       "0  Posted 8 days ago • Apply before 13 May   Mobius Digital  \n",
       "1   Posted 9 days ago • Apply before 1 May  Astra Financial  \n",
       "2  Posted 9 days ago • Apply before 29 Jun         PGI Data  \n",
       "3  Posted 7 days ago • Apply before 19 Apr         PGI Data  \n",
       "4   Posted 2 days ago • Apply before 9 May         PhinCon   "
      ]
     },
     "execution_count": 88,
     "metadata": {},
     "output_type": "execute_result"
    }
   ],
   "source": [
    "import pandas as pd\n",
    "\n",
    "df = pd.DataFrame({\"Title Pekerjaan\":title,\"Lokasi\": lokasi, \"Post dan Deadline\":post_dl, \"Perusahaan\": perusahaan})\n",
    "df.head()"
   ]
  },
  {
   "cell_type": "markdown",
   "metadata": {},
   "source": [
    "Do the data cleaning here (please change this markdown with your explanation of what you do for data wrangling)"
   ]
  },
  {
   "cell_type": "code",
   "execution_count": 89,
   "metadata": {
    "ExecuteTime": {
     "end_time": "2020-01-13T05:12:59.165559Z",
     "start_time": "2020-01-13T05:12:58.910012Z"
    }
   },
   "outputs": [
    {
     "data": {
      "text/plain": [
       "Title Pekerjaan      0\n",
       "Lokasi               0\n",
       "Post dan Deadline    0\n",
       "Perusahaan           0\n",
       "dtype: int64"
      ]
     },
     "execution_count": 89,
     "metadata": {},
     "output_type": "execute_result"
    }
   ],
   "source": [
    "df.isna().sum()"
   ]
  },
  {
   "cell_type": "code",
   "execution_count": 90,
   "metadata": {},
   "outputs": [
    {
     "data": {
      "text/plain": [
       "Title Pekerjaan      object\n",
       "Lokasi               object\n",
       "Post dan Deadline    object\n",
       "Perusahaan           object\n",
       "dtype: object"
      ]
     },
     "execution_count": 90,
     "metadata": {},
     "output_type": "execute_result"
    }
   ],
   "source": [
    "df.dtypes"
   ]
  },
  {
   "cell_type": "code",
   "execution_count": 91,
   "metadata": {},
   "outputs": [
    {
     "data": {
      "text/plain": [
       "Title Pekerjaan      145\n",
       "Lokasi                35\n",
       "Post dan Deadline    113\n",
       "Perusahaan            87\n",
       "dtype: int64"
      ]
     },
     "execution_count": 91,
     "metadata": {},
     "output_type": "execute_result"
    }
   ],
   "source": [
    "df.nunique()"
   ]
  },
  {
   "cell_type": "code",
   "execution_count": 92,
   "metadata": {},
   "outputs": [
    {
     "data": {
      "text/plain": [
       "South Jakarta, Indonesia           36\n",
       "Jakarta, Indonesia                 19\n",
       "Tangerang, Indonesia               19\n",
       "Jakarta Selatan, Indonesia         18\n",
       "Jakarta Pusat, Indonesia           17\n",
       "Central Jakarta, Indonesia         14\n",
       "North Jakarta, Indonesia           11\n",
       "West Jakarta, Indonesia            10\n",
       "South Tangerang, Indonesia          9\n",
       "Kota Jakarta Selatan, Indonesia     9\n",
       "Jakarta Barat, Indonesia            8\n",
       "Surabaya, Indonesia                 7\n",
       "Central Jakarta City, Indonesia     5\n",
       "Sleman, Indonesia                   4\n",
       "Bandung Kota, Indonesia             3\n",
       "Kota Jakarta Pusat, Indonesia       3\n",
       "Tangerang Selatan, Indonesia        3\n",
       "Malang Kota, Indonesia              3\n",
       "Yogyakarta, Indonesia               2\n",
       "Jakarta Utara, Indonesia            2\n",
       "South Jakarta City, Indonesia       2\n",
       "Makassar, Indonesia                 2\n",
       "Banyuwangi, Indonesia               2\n",
       "Bandung Kabupaten, Indonesia        2\n",
       "Tangerang Kabupaten, Indonesia      2\n",
       "Banjarmasin, Indonesia              2\n",
       "East Jakarta, Indonesia             2\n",
       "Tangerang Kota, Indonesia           2\n",
       "Kota Jakarta Barat, Indonesia       1\n",
       "Depok City, Indonesia               1\n",
       "Jember, Indonesia                   1\n",
       "Tabanan, Indonesia                  1\n",
       "West Lombok, Indonesia              1\n",
       "Jembrana, Indonesia                 1\n",
       "Sukabumi City, Indonesia            1\n",
       "Name: Lokasi, dtype: int64"
      ]
     },
     "execution_count": 92,
     "metadata": {},
     "output_type": "execute_result"
    }
   ],
   "source": [
    "df['Lokasi'].value_counts()"
   ]
  },
  {
   "cell_type": "markdown",
   "metadata": {},
   "source": [
    "Karena semua kota berasal dari negara Indonesia, maka disini akan menghapus kata Indonesia untuk mempermudah membaca data"
   ]
  },
  {
   "cell_type": "code",
   "execution_count": 93,
   "metadata": {},
   "outputs": [],
   "source": [
    "df['Lokasi'] = df['Lokasi'].replace(', Indonesia', '', regex = True)"
   ]
  },
  {
   "cell_type": "code",
   "execution_count": 94,
   "metadata": {},
   "outputs": [
    {
     "data": {
      "text/plain": [
       "South Jakarta           36\n",
       "Jakarta                 19\n",
       "Tangerang               19\n",
       "Jakarta Selatan         18\n",
       "Jakarta Pusat           17\n",
       "Central Jakarta         14\n",
       "North Jakarta           11\n",
       "West Jakarta            10\n",
       "South Tangerang          9\n",
       "Kota Jakarta Selatan     9\n",
       "Jakarta Barat            8\n",
       "Surabaya                 7\n",
       "Central Jakarta City     5\n",
       "Sleman                   4\n",
       "Bandung Kota             3\n",
       "Kota Jakarta Pusat       3\n",
       "Tangerang Selatan        3\n",
       "Malang Kota              3\n",
       "Yogyakarta               2\n",
       "Jakarta Utara            2\n",
       "South Jakarta City       2\n",
       "Makassar                 2\n",
       "Banyuwangi               2\n",
       "Bandung Kabupaten        2\n",
       "Tangerang Kabupaten      2\n",
       "Banjarmasin              2\n",
       "East Jakarta             2\n",
       "Tangerang Kota           2\n",
       "Kota Jakarta Barat       1\n",
       "Depok City               1\n",
       "Jember                   1\n",
       "Tabanan                  1\n",
       "West Lombok              1\n",
       "Jembrana                 1\n",
       "Sukabumi City            1\n",
       "Name: Lokasi, dtype: int64"
      ]
     },
     "execution_count": 94,
     "metadata": {},
     "output_type": "execute_result"
    }
   ],
   "source": [
    "df['Lokasi'].value_counts()"
   ]
  },
  {
   "cell_type": "markdown",
   "metadata": {},
   "source": [
    "Selanjutnya, diatas terlihat bahwa ada kota yang sama namun mempunya redaksi yang berbeda. Maka akan dilakukan penyamaan terkait data-data tersebut dengan melakukan `replace`."
   ]
  },
  {
   "cell_type": "code",
   "execution_count": 95,
   "metadata": {},
   "outputs": [],
   "source": [
    "df['Lokasi'] = df['Lokasi'].replace(['West Jakarta', 'Kota Jakarta Barat'], 'Jakarta Barat', regex = True)\n",
    "df['Lokasi'] = df['Lokasi'].replace(['Central Jakarta', 'Central Jakarta City', 'Kota Jakarta Pusat', 'Jakarta Pusat City'],\n",
    "                                    'Jakarta Pusat', regex = True)\n",
    "df['Lokasi'] = df['Lokasi'].replace(['North Jakarta'], 'Jakarta Utara', regex = True)\n",
    "df['Lokasi'] = df['Lokasi'].replace(['East Jakarta'], 'Jakarta Timur', regex = True)\n",
    "df['Lokasi'] = df['Lokasi'].replace(['South Jakarta', 'South Jakarta City', 'Kota Jakarta Selatan', 'Jakarta Selatan City'],\n",
    "                                    'Jakarta Selatan', regex = True)\n",
    "df['Lokasi'] = df['Lokasi'].replace(['South Tangerang'], 'Tangerang Selatan', regex = True)\n",
    "df['Lokasi'] = df['Lokasi'].replace(['Tangerang Kota'], 'Tangerang', regex = True)"
   ]
  },
  {
   "cell_type": "code",
   "execution_count": 96,
   "metadata": {},
   "outputs": [],
   "source": [
    "df['Lokasi'] = df['Lokasi'].replace(['West Jakarta', 'Kota Jakarta Barat'], 'Jakarta Barat', regex = True)\n",
    "df['Lokasi'] = df['Lokasi'].replace(['Central Jakarta', 'Central Jakarta City', 'Kota Jakarta Pusat', 'Jakarta Pusat City'],\n",
    "                                    'Jakarta Pusat', regex = True)\n",
    "df['Lokasi'] = df['Lokasi'].replace(['North Jakarta'], 'Jakarta Utara', regex = True)\n",
    "df['Lokasi'] = df['Lokasi'].replace(['East Jakarta'], 'Jakarta Timur', regex = True)\n",
    "df['Lokasi'] = df['Lokasi'].replace(['South Jakarta', 'South Jakarta City', 'Kota Jakarta Selatan', 'Jakarta Selatan City'],\n",
    "                                    'Jakarta Selatan', regex = True)\n",
    "df['Lokasi'] = df['Lokasi'].replace(['South Tangerang'], 'Tangerang Selatan', regex = True)\n",
    "df['Lokasi'] = df['Lokasi'].replace(['Tangerang Kota'], 'Tangerang', regex = True)"
   ]
  },
  {
   "cell_type": "markdown",
   "metadata": {},
   "source": [
    "Karena ada sebagian kota yang tidak berubah, maka block diatas dilakukan secara 2x"
   ]
  },
  {
   "cell_type": "code",
   "execution_count": 97,
   "metadata": {},
   "outputs": [
    {
     "data": {
      "text/plain": [
       "Jakarta Selatan        65\n",
       "Jakarta Pusat          39\n",
       "Tangerang              21\n",
       "Jakarta                19\n",
       "Jakarta Barat          19\n",
       "Jakarta Utara          13\n",
       "Tangerang Selatan      12\n",
       "Surabaya                7\n",
       "Sleman                  4\n",
       "Malang Kota             3\n",
       "Bandung Kota            3\n",
       "Banjarmasin             2\n",
       "Makassar                2\n",
       "Banyuwangi              2\n",
       "Bandung Kabupaten       2\n",
       "Yogyakarta              2\n",
       "Jakarta Timur           2\n",
       "Tangerang Kabupaten     2\n",
       "Sukabumi City           1\n",
       "Depok City              1\n",
       "Jember                  1\n",
       "West Lombok             1\n",
       "Tabanan                 1\n",
       "Jembrana                1\n",
       "Name: Lokasi, dtype: int64"
      ]
     },
     "execution_count": 97,
     "metadata": {},
     "output_type": "execute_result"
    }
   ],
   "source": [
    "df['Lokasi'].value_counts()"
   ]
  },
  {
   "cell_type": "code",
   "execution_count": 98,
   "metadata": {},
   "outputs": [
    {
     "data": {
      "text/html": [
       "<div>\n",
       "<style scoped>\n",
       "    .dataframe tbody tr th:only-of-type {\n",
       "        vertical-align: middle;\n",
       "    }\n",
       "\n",
       "    .dataframe tbody tr th {\n",
       "        vertical-align: top;\n",
       "    }\n",
       "\n",
       "    .dataframe thead th {\n",
       "        text-align: right;\n",
       "    }\n",
       "</style>\n",
       "<table border=\"1\" class=\"dataframe\">\n",
       "  <thead>\n",
       "    <tr style=\"text-align: right;\">\n",
       "      <th></th>\n",
       "      <th>Title Pekerjaan</th>\n",
       "      <th>Lokasi</th>\n",
       "      <th>Post dan Deadline</th>\n",
       "      <th>Perusahaan</th>\n",
       "    </tr>\n",
       "  </thead>\n",
       "  <tbody>\n",
       "    <tr>\n",
       "      <th>0</th>\n",
       "      <td>DevOps and Data Engineer</td>\n",
       "      <td>Tangerang Selatan</td>\n",
       "      <td>Posted 8 days ago • Apply before 13 May</td>\n",
       "      <td>Mobius Digital</td>\n",
       "    </tr>\n",
       "    <tr>\n",
       "      <th>1</th>\n",
       "      <td>Data Quality Analyst</td>\n",
       "      <td>Jakarta Pusat</td>\n",
       "      <td>Posted 9 days ago • Apply before 1 May</td>\n",
       "      <td>Astra Financial</td>\n",
       "    </tr>\n",
       "    <tr>\n",
       "      <th>2</th>\n",
       "      <td>Project Manager</td>\n",
       "      <td>Jakarta</td>\n",
       "      <td>Posted 9 days ago • Apply before 29 Jun</td>\n",
       "      <td>PGI Data</td>\n",
       "    </tr>\n",
       "    <tr>\n",
       "      <th>3</th>\n",
       "      <td>Network  Security Engineer</td>\n",
       "      <td>Jakarta</td>\n",
       "      <td>Posted 7 days ago • Apply before 19 Apr</td>\n",
       "      <td>PGI Data</td>\n",
       "    </tr>\n",
       "    <tr>\n",
       "      <th>4</th>\n",
       "      <td>iOS Developer</td>\n",
       "      <td>Jakarta Selatan</td>\n",
       "      <td>Posted 2 days ago • Apply before 9 May</td>\n",
       "      <td>PhinCon</td>\n",
       "    </tr>\n",
       "  </tbody>\n",
       "</table>\n",
       "</div>"
      ],
      "text/plain": [
       "              Title Pekerjaan             Lokasi  \\\n",
       "0    DevOps and Data Engineer  Tangerang Selatan   \n",
       "1        Data Quality Analyst      Jakarta Pusat   \n",
       "2             Project Manager            Jakarta   \n",
       "3  Network  Security Engineer            Jakarta   \n",
       "4               iOS Developer    Jakarta Selatan   \n",
       "\n",
       "                         Post dan Deadline       Perusahaan  \n",
       "0  Posted 8 days ago • Apply before 13 May   Mobius Digital  \n",
       "1   Posted 9 days ago • Apply before 1 May  Astra Financial  \n",
       "2  Posted 9 days ago • Apply before 29 Jun         PGI Data  \n",
       "3  Posted 7 days ago • Apply before 19 Apr         PGI Data  \n",
       "4   Posted 2 days ago • Apply before 9 May         PhinCon   "
      ]
     },
     "execution_count": 98,
     "metadata": {},
     "output_type": "execute_result"
    }
   ],
   "source": [
    "df.head()"
   ]
  },
  {
   "cell_type": "markdown",
   "metadata": {},
   "source": [
    "## Data visualisation"
   ]
  },
  {
   "cell_type": "markdown",
   "metadata": {},
   "source": [
    "Dalam Tugas, perlu melakukan visualisasi dari jumlah pekerjaan berdasarkan lokasi"
   ]
  },
  {
   "cell_type": "code",
   "execution_count": 99,
   "metadata": {},
   "outputs": [
    {
     "data": {
      "text/html": [
       "<div>\n",
       "<style scoped>\n",
       "    .dataframe tbody tr th:only-of-type {\n",
       "        vertical-align: middle;\n",
       "    }\n",
       "\n",
       "    .dataframe tbody tr th {\n",
       "        vertical-align: top;\n",
       "    }\n",
       "\n",
       "    .dataframe thead th {\n",
       "        text-align: right;\n",
       "    }\n",
       "</style>\n",
       "<table border=\"1\" class=\"dataframe\">\n",
       "  <thead>\n",
       "    <tr style=\"text-align: right;\">\n",
       "      <th>col_0</th>\n",
       "      <th>Jumlah Pekerjaan</th>\n",
       "    </tr>\n",
       "    <tr>\n",
       "      <th>Lokasi</th>\n",
       "      <th></th>\n",
       "    </tr>\n",
       "  </thead>\n",
       "  <tbody>\n",
       "    <tr>\n",
       "      <th>Jakarta Selatan</th>\n",
       "      <td>65</td>\n",
       "    </tr>\n",
       "    <tr>\n",
       "      <th>Jakarta Pusat</th>\n",
       "      <td>39</td>\n",
       "    </tr>\n",
       "    <tr>\n",
       "      <th>Tangerang</th>\n",
       "      <td>21</td>\n",
       "    </tr>\n",
       "    <tr>\n",
       "      <th>Jakarta</th>\n",
       "      <td>19</td>\n",
       "    </tr>\n",
       "    <tr>\n",
       "      <th>Jakarta Barat</th>\n",
       "      <td>19</td>\n",
       "    </tr>\n",
       "  </tbody>\n",
       "</table>\n",
       "</div>"
      ],
      "text/plain": [
       "col_0            Jumlah Pekerjaan\n",
       "Lokasi                           \n",
       "Jakarta Selatan                65\n",
       "Jakarta Pusat                  39\n",
       "Tangerang                      21\n",
       "Jakarta                        19\n",
       "Jakarta Barat                  19"
      ]
     },
     "execution_count": 99,
     "metadata": {},
     "output_type": "execute_result"
    }
   ],
   "source": [
    "pd.crosstab(\n",
    "        index=df['Lokasi'],\n",
    "        columns='Jumlah Pekerjaan'\n",
    ").sort_values(by='Jumlah Pekerjaan', ascending=False).head(5)"
   ]
  },
  {
   "cell_type": "code",
   "execution_count": 100,
   "metadata": {},
   "outputs": [
    {
     "data": {
      "text/plain": [
       "<AxesSubplot:ylabel='Lokasi'>"
      ]
     },
     "execution_count": 100,
     "metadata": {},
     "output_type": "execute_result"
    },
    {
     "data": {
      "image/png": "[encoded data removed]",
      "text/plain": [
       "<Figure size 640x480 with 1 Axes>"
      ]
     },
     "metadata": {},
     "output_type": "display_data"
    }
   ],
   "source": [
    "pd.crosstab(\n",
    "        index=df['Lokasi'],\n",
    "        columns='Jumlah Pekerjaan'\n",
    ").sort_values(by='Jumlah Pekerjaan', ascending=True).plot(kind = 'barh')"
   ]
  },
  {
   "cell_type": "markdown",
   "metadata": {},
   "source": [
    "Insight :\n",
    "- Kota Jakarta Selatan mempunyai jumlah pekerjaan paling banyak dari kota yang lain.\n",
    "- 5 kota dengan jumlah pekerjaan paling banyak didominasi oleh kota di provinsi DKI Jakarta."
   ]
  },
  {
   "cell_type": "code",
   "execution_count": 101,
   "metadata": {},
   "outputs": [
    {
     "data": {
      "text/html": [
       "<div>\n",
       "<style scoped>\n",
       "    .dataframe tbody tr th:only-of-type {\n",
       "        vertical-align: middle;\n",
       "    }\n",
       "\n",
       "    .dataframe tbody tr th {\n",
       "        vertical-align: top;\n",
       "    }\n",
       "\n",
       "    .dataframe thead th {\n",
       "        text-align: right;\n",
       "    }\n",
       "</style>\n",
       "<table border=\"1\" class=\"dataframe\">\n",
       "  <thead>\n",
       "    <tr style=\"text-align: right;\">\n",
       "      <th>col_0</th>\n",
       "      <th>Jumlah Pekerjaan</th>\n",
       "    </tr>\n",
       "    <tr>\n",
       "      <th>Title Pekerjaan</th>\n",
       "      <th></th>\n",
       "    </tr>\n",
       "  </thead>\n",
       "  <tbody>\n",
       "    <tr>\n",
       "      <th>Data Scientist</th>\n",
       "      <td>5</td>\n",
       "    </tr>\n",
       "    <tr>\n",
       "      <th>Product Owner</th>\n",
       "      <td>5</td>\n",
       "    </tr>\n",
       "    <tr>\n",
       "      <th>Backend Engineer</th>\n",
       "      <td>4</td>\n",
       "    </tr>\n",
       "    <tr>\n",
       "      <th>Back End Developer</th>\n",
       "      <td>4</td>\n",
       "    </tr>\n",
       "    <tr>\n",
       "      <th>System &amp; Cloud Engineer</th>\n",
       "      <td>3</td>\n",
       "    </tr>\n",
       "  </tbody>\n",
       "</table>\n",
       "</div>"
      ],
      "text/plain": [
       "col_0                    Jumlah Pekerjaan\n",
       "Title Pekerjaan                          \n",
       "Data Scientist                          5\n",
       "Product Owner                           5\n",
       "Backend Engineer                        4\n",
       "Back End Developer                      4\n",
       "System & Cloud Engineer                 3"
      ]
     },
     "execution_count": 101,
     "metadata": {},
     "output_type": "execute_result"
    }
   ],
   "source": [
    "pd.crosstab(\n",
    "        index = df['Title Pekerjaan'],\n",
    "        columns = 'Jumlah Pekerjaan'\n",
    "    ).sort_values(by = 'Jumlah Pekerjaan', ascending = False).head(5)"
   ]
  },
  {
   "cell_type": "code",
   "execution_count": 102,
   "metadata": {},
   "outputs": [
    {
     "data": {
      "text/plain": [
       "<AxesSubplot:ylabel='Title Pekerjaan'>"
      ]
     },
     "execution_count": 102,
     "metadata": {},
     "output_type": "execute_result"
    },
    {
     "data": {
      "image/png": "[encoded data removed]",
      "text/plain": [
       "<Figure size 640x480 with 1 Axes>"
      ]
     },
     "metadata": {},
     "output_type": "display_data"
    }
   ],
   "source": [
    "pd.crosstab(\n",
    "        index = df['Title Pekerjaan'],\n",
    "        columns = 'Jumlah Pekerjaan'\n",
    "    ).sort_values(by = 'Jumlah Pekerjaan', ascending = False).head(15).plot(kind = 'barh')"
   ]
  },
  {
   "cell_type": "markdown",
   "metadata": {},
   "source": [
    "Insight :\n",
    "- Pekerjaan paling banyak dicari adalah Data Scientist dan Product Owner\n",
    "- 15 pekerjaan paling banyak didominasi oleh pekerjaan yang berkaitan dengan IT (Web, Database, Programming)"
   ]
  },
  {
   "cell_type": "code",
   "execution_count": 103,
   "metadata": {},
   "outputs": [
    {
     "data": {
      "text/html": [
       "<div>\n",
       "<style scoped>\n",
       "    .dataframe tbody tr th:only-of-type {\n",
       "        vertical-align: middle;\n",
       "    }\n",
       "\n",
       "    .dataframe tbody tr th {\n",
       "        vertical-align: top;\n",
       "    }\n",
       "\n",
       "    .dataframe thead th {\n",
       "        text-align: right;\n",
       "    }\n",
       "</style>\n",
       "<table border=\"1\" class=\"dataframe\">\n",
       "  <thead>\n",
       "    <tr style=\"text-align: right;\">\n",
       "      <th>col_0</th>\n",
       "      <th>Jumlah Pekerjaan</th>\n",
       "    </tr>\n",
       "    <tr>\n",
       "      <th>Perusahaan</th>\n",
       "      <th></th>\n",
       "    </tr>\n",
       "  </thead>\n",
       "  <tbody>\n",
       "    <tr>\n",
       "      <th>PT BFI Finance Indonesia Tbk</th>\n",
       "      <td>20</td>\n",
       "    </tr>\n",
       "    <tr>\n",
       "      <th>Kompas Gramedia</th>\n",
       "      <td>10</td>\n",
       "    </tr>\n",
       "    <tr>\n",
       "      <th>paper.id</th>\n",
       "      <td>8</td>\n",
       "    </tr>\n",
       "    <tr>\n",
       "      <th>DOKU, PT NUSA SATU INTI ARTHA</th>\n",
       "      <td>8</td>\n",
       "    </tr>\n",
       "    <tr>\n",
       "      <th>FinAccel</th>\n",
       "      <td>7</td>\n",
       "    </tr>\n",
       "  </tbody>\n",
       "</table>\n",
       "</div>"
      ],
      "text/plain": [
       "col_0                          Jumlah Pekerjaan\n",
       "Perusahaan                                     \n",
       "PT BFI Finance Indonesia Tbk                 20\n",
       "Kompas Gramedia                              10\n",
       "paper.id                                      8\n",
       "DOKU, PT NUSA SATU INTI ARTHA                 8\n",
       "FinAccel                                      7"
      ]
     },
     "execution_count": 103,
     "metadata": {},
     "output_type": "execute_result"
    }
   ],
   "source": [
    "pd.crosstab(\n",
    "        index = df['Perusahaan'],\n",
    "        columns = 'Jumlah Pekerjaan'\n",
    "    ).sort_values(by = 'Jumlah Pekerjaan', ascending = False).head(5)"
   ]
  },
  {
   "cell_type": "code",
   "execution_count": 104,
   "metadata": {},
   "outputs": [
    {
     "data": {
      "text/plain": [
       "<AxesSubplot:ylabel='Perusahaan'>"
      ]
     },
     "execution_count": 104,
     "metadata": {},
     "output_type": "execute_result"
    },
    {
     "data": {
      "image/png": "[encoded data removed]",
      "text/plain": [
       "<Figure size 640x480 with 1 Axes>"
      ]
     },
     "metadata": {},
     "output_type": "display_data"
    }
   ],
   "source": [
    "pd.crosstab(\n",
    "        index = df['Perusahaan'],\n",
    "        columns = 'Jumlah Pekerjaan'\n",
    "    ).sort_values(by = 'Jumlah Pekerjaan', ascending = False).head(10).plot(kind = 'barh')"
   ]
  },
  {
   "cell_type": "markdown",
   "metadata": {},
   "source": [
    "Insight :\n",
    "- PT BFI Finance Indonesia Tbk menjadi perusahaan dengan jumlah pekerjaan terbanyak\n",
    "- Antara PT BFI Finance Indonesia Tbk dan perushaan lain mempunyai perbedaan signifikan terkait jumlah lowongan pekerjaan"
   ]
  },
  {
   "cell_type": "markdown",
   "metadata": {},
   "source": [
    "### Implementing your webscrapping to the flask dashboard\n",
    "\n",
    "- Copy paste all of your web scrapping process to the desired position on the `app.py`\n",
    "- Changing the title of the dasboard at `index.html`"
   ]
  },
  {
   "cell_type": "markdown",
   "metadata": {},
   "source": [
    "## Finishing This Notebook with Your Analysis and Conclusion\n",
    "\n",
    "First you can do start with making the data visualisation. "
   ]
  },
  {
   "cell_type": "code",
   "execution_count": null,
   "metadata": {
    "ExecuteTime": {
     "end_time": "2020-01-13T05:20:56.208237Z",
     "start_time": "2020-01-13T05:20:56.076043Z"
    }
   },
   "outputs": [],
   "source": [
    "from flask import Flask, render_template\n",
    "import pandas as pd\n",
    "import matplotlib\n",
    "import matplotlib.pyplot as plt\n",
    "from io import BytesIO\n",
    "import base64\n",
    "from bs4 import BeautifulSoup \n",
    "import requests\n",
    "\n",
    "#don't change this\n",
    "matplotlib.use('Agg')\n",
    "app = Flask(__name__) #do not change this\n",
    "\n",
    "# #insert the scrapping here\n",
    "halaman  = 15\n",
    "title = []\n",
    "lokasi = []\n",
    "post_dl = []\n",
    "perusahaan = []\n",
    "\n",
    "for i in range(1, halaman + 1):\n",
    "    print(f'Proses Halaman {i}')\n",
    "    url_get = requests.get(f\"https://www.kalibrr.id/id-ID/job-board/te/data/{i}\")\n",
    "    soup = BeautifulSoup(url_get.content,\"html.parser\")\n",
    "    title_0 = soup.find_all('h2', attrs = {'class' : 'k-text-xl k-font-medium'})\n",
    "    title_1 = BeautifulSoup(str(title_0), 'html.parser')\n",
    "    for item in title_1.find_all('a', attrs={'class':'k-text-primary-color'}):\n",
    "        title.append(item.text)\n",
    "    perusahaan_0 = soup.find_all('span', attrs = {'class' : 'k-inline-flex k-items-center k-mb-1'})\n",
    "    perusahaan_1 = BeautifulSoup(str(perusahaan_0), 'html.parser')\n",
    "    for item in perusahaan_1.find_all('a', attrs={'class':'k-text-subdued'}):\n",
    "        perusahaan.append(item.text)\n",
    "    for item in soup.find_all('a', attrs={'class':'k-text-subdued k-block'}):\n",
    "        lokasi.append(item.text)\n",
    "    for item in soup.find_all('span', attrs={'class':'k-block k-mb-1'}):\n",
    "        post_dl.append(item.text)\n",
    "print('DONE')\n",
    "\n",
    "#change into dataframe\n",
    "df = pd.DataFrame({\"Title Pekerjaan\":title,\"Lokasi\": lokasi, \"Post dan Deadline\":post_dl, \"Perusahaan\": perusahaan})\n",
    "\n",
    "#insert data wrangling here\n",
    "df = df.replace({'Lokasi': ', Indonesia'}, {'Lokasi' : ''}, regex = True)\n",
    "df['Lokasi'] = df['Lokasi'].replace(['West Jakarta', 'Kota Jakarta Barat'], 'Jakarta Barat', regex = True)\n",
    "df['Lokasi'] = df['Lokasi'].replace(['Central Jakarta', 'Central Jakarta City', 'Kota Jakarta Pusat', 'Jakarta Pusat City'],\n",
    "                                    'Jakarta Pusat', regex = True)\n",
    "df['Lokasi'] = df['Lokasi'].replace(['North Jakarta'], 'Jakarta Utara', regex = True)\n",
    "df['Lokasi'] = df['Lokasi'].replace(['East Jakarta'], 'Jakarta Timur', regex = True)\n",
    "df['Lokasi'] = df['Lokasi'].replace(['South Jakarta', 'South Jakarta City', 'Kota Jakarta Selatan', 'Jakarta Selatan City'],\n",
    "                                    'Jakarta Selatan', regex = True)\n",
    "df['Lokasi'] = df['Lokasi'].replace(['South Tangerang'], 'Tangerang Selatan', regex = True)\n",
    "df['Lokasi'] = df['Lokasi'].replace(['Tangerang Kota'], 'Tangerang', regex = True)\n",
    "\n",
    "# sekali lagi\n",
    "\n",
    "df['Lokasi'] = df['Lokasi'].replace(['West Jakarta', 'Kota Jakarta Barat'], 'Jakarta Barat', regex = True)\n",
    "df['Lokasi'] = df['Lokasi'].replace(['Central Jakarta', 'Central Jakarta City', 'Kota Jakarta Pusat', 'Jakarta Pusat City'],\n",
    "                                    'Jakarta Pusat', regex = True)\n",
    "df['Lokasi'] = df['Lokasi'].replace(['North Jakarta'], 'Jakarta Utara', regex = True)\n",
    "df['Lokasi'] = df['Lokasi'].replace(['East Jakarta'], 'Jakarta Timur', regex = True)\n",
    "df['Lokasi'] = df['Lokasi'].replace(['South Jakarta', 'South Jakarta City', 'Kota Jakarta Selatan', 'Jakarta Selatan City'],\n",
    "                                    'Jakarta Selatan', regex = True)\n",
    "df['Lokasi'] = df['Lokasi'].replace(['South Tangerang'], 'Tangerang Selatan', regex = True)\n",
    "df['Lokasi'] = df['Lokasi'].replace(['Tangerang Kota'], 'Tangerang', regex = True)\n",
    "\n",
    "#end of data wranggling \n",
    "\n",
    "@app.route(\"/\")\n",
    "def index():\n",
    "    card_data = pd.crosstab(\n",
    "        index=df['Lokasi'],\n",
    "        columns='Jumlah Pekerjaan'\n",
    "    ).sort_values(by='Jumlah Pekerjaan', ascending=False).head(5)\n",
    "\n",
    "    card_data2 = pd.crosstab(\n",
    "        index = df['Title Pekerjaan'],\n",
    "        columns = 'Jumlah Pekerjaan'\n",
    "    ).sort_values(by = 'Jumlah Pekerjaan', ascending = False).head(5)\n",
    "\n",
    "\t# generate plot\n",
    "    ax = card_data.plot(figsize = (10,6), kind = 'bar', rot = 7)\n",
    "\t# Rendering plot\n",
    "\t# Do not change this\n",
    "    figfile = BytesIO()\n",
    "    plt.savefig(figfile, format='png', transparent=True)\n",
    "    figfile.seek(0)\n",
    "    figdata_png = base64.b64encode(figfile.getvalue())\n",
    "    plot_result = str(figdata_png)[2:-1]\n",
    "\n",
    "    ax2 = card_data2.plot(figsize = (10,6), kind = 'barh', rot = 7)\n",
    "\n",
    "    figfile2 = BytesIO()\n",
    "    plt.savefig(figfile2, format='png', transparent=True)\n",
    "    figfile2.seek(0)\n",
    "    figdata_png2 = base64.b64encode(figfile2.getvalue())\n",
    "    plot_result2 = str(figdata_png2)[2:-1]\n",
    "\n",
    "\t# render to html\n",
    "    return render_template('index.html',\n",
    "                           card_data = card_data,\n",
    "                           plot_result=plot_result,\n",
    "                           plot_result2=plot_result2,\n",
    "    )\n",
    "if __name__ == \"__main__\": \n",
    "    app.run(debug=True)"
   ]
  },
  {
   "cell_type": "markdown",
   "metadata": {},
   "source": [
    "### Implement it at the webapps\n",
    "\n",
    "- You can create additional analysis from the data.\n",
    "- Implement it to the dashboard with at `app.py` dan `index.html`."
   ]
  }
 ],
 "metadata": {
  "kernelspec": {
   "display_name": "capstone_vulcan",
   "language": "python",
   "name": "capstone_vulcan"
  },
  "language_info": {
   "codemirror_mode": {
    "name": "ipython",
    "version": 3
   },
   "file_extension": ".py",
   "mimetype": "text/x-python",
   "name": "python",
   "nbconvert_exporter": "python",
   "pygments_lexer": "ipython3",
   "version": "3.10.10"
  }
 },
 "nbformat": 4,
 "nbformat_minor": 2
}
